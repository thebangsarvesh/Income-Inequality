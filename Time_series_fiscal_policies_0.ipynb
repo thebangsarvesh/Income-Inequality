{
 "cells": [
  {
   "cell_type": "code",
   "execution_count": 1,
   "metadata": {},
   "outputs": [],
   "source": [
    "import pandas as pd\n",
    "import numpy as np\n",
    "import statsmodels.api as sm"
   ]
  },
  {
   "cell_type": "code",
   "execution_count": 2,
   "metadata": {},
   "outputs": [],
   "source": [
    "# Load the time series data from a CSV file\n",
    "df = pd.read_csv('D:\\Documents\\TIme series data\\data\\poverty_ind.csv')\n",
    "\n",
    "year = df['Year']\n",
    "indicators = df.drop('Year', axis=1)"
   ]
  },
  {
   "cell_type": "code",
   "execution_count": 3,
   "metadata": {},
   "outputs": [],
   "source": [
    "# Create a datetime index for the time series\n",
    "datetime_index = pd.to_datetime(year, format='%Y')\n",
    "\n",
    "# Get the input year from the user\n",
    "input_year = int(input(\"Enter the year: \"))\n",
    "\n",
    "# Convert the input year to a number\n",
    "input_year_num = float(input_year)\n",
    "\n",
    "# Sort the DataFrame in ascending order by 'Year'\n",
    "df_sorted = df.sort_values('Year')\n"
   ]
  },
  {
   "cell_type": "code",
   "execution_count": 4,
   "metadata": {},
   "outputs": [],
   "source": [
    "# Create a synthetic DataFrame with missing years and arrange in ascending order\n",
    "missing_years = np.arange(df_sorted['Year'].min(), df_sorted['Year'].max() + 1)\n",
    "missing_years_df = pd.DataFrame({'Year': missing_years})\n",
    "synthetic_data = pd.merge(df_sorted, missing_years_df, how='right').sort_values('Year')"
   ]
  },
  {
   "cell_type": "code",
   "execution_count": 5,
   "metadata": {},
   "outputs": [
    {
     "name": "stderr",
     "output_type": "stream",
     "text": [
      "c:\\ProgramData\\Anaconda3\\lib\\site-packages\\pandas\\core\\indexing.py:1637: SettingWithCopyWarning: \n",
      "A value is trying to be set on a copy of a slice from a DataFrame\n",
      "\n",
      "See the caveats in the documentation: https://pandas.pydata.org/pandas-docs/stable/user_guide/indexing.html#returning-a-view-versus-a-copy\n",
      "  self._setitem_single_block(indexer, value, name)\n"
     ]
    }
   ],
   "source": [
    "# Iterate through the column and replace NaN values\n",
    "for i in range(len(synthetic_data['Indicator'])):\n",
    "    if pd.isna(synthetic_data['Indicator'].iloc[i]):\n",
    "        if i > 0 and i < len(synthetic_data['Indicator']) - 1 and pd.notna(synthetic_data['Indicator'].iloc[i-1]) and pd.notna(synthetic_data['Indicator'].iloc[i+1]):\n",
    "            synthetic_data['Indicator'].iloc[i] = (synthetic_data['Indicator'].iloc[i-1] + synthetic_data['Indicator'].iloc[i+1]) / 2\n",
    "        else:\n",
    "            synthetic_data['Indicator'].iloc[i] = synthetic_data['Indicator'].iloc[i-1]"
   ]
  },
  {
   "cell_type": "code",
   "execution_count": 6,
   "metadata": {},
   "outputs": [],
   "source": [
    "df = synthetic_data"
   ]
  },
  {
   "cell_type": "code",
   "execution_count": 7,
   "metadata": {},
   "outputs": [],
   "source": [
    "\n",
    "input_year = int(input(\"Enter the year: \"))\n"
   ]
  },
  {
   "cell_type": "code",
   "execution_count": 8,
   "metadata": {},
   "outputs": [],
   "source": [
    "# Split the DataFrame based on the input year\n",
    "df_before = df[df['Year'] < input_year]\n",
    "df_complete = df\n"
   ]
  },
  {
   "cell_type": "code",
   "execution_count": 9,
   "metadata": {},
   "outputs": [
    {
     "name": "stderr",
     "output_type": "stream",
     "text": [
      "c:\\ProgramData\\Anaconda3\\lib\\site-packages\\statsmodels\\tsa\\arima_model.py:472: FutureWarning: \n",
      "statsmodels.tsa.arima_model.ARMA and statsmodels.tsa.arima_model.ARIMA have\n",
      "been deprecated in favor of statsmodels.tsa.arima.model.ARIMA (note the .\n",
      "between arima and model) and\n",
      "statsmodels.tsa.SARIMAX. These will be removed after the 0.12 release.\n",
      "\n",
      "statsmodels.tsa.arima.model.ARIMA makes use of the statespace framework and\n",
      "is both well tested and maintained.\n",
      "\n",
      "To silence this warning and continue using ARMA and ARIMA until they are\n",
      "removed, use:\n",
      "\n",
      "import warnings\n",
      "warnings.filterwarnings('ignore', 'statsmodels.tsa.arima_model.ARMA',\n",
      "                        FutureWarning)\n",
      "warnings.filterwarnings('ignore', 'statsmodels.tsa.arima_model.ARIMA',\n",
      "                        FutureWarning)\n",
      "\n",
      "  warnings.warn(ARIMA_DEPRECATION_WARN, FutureWarning)\n",
      "c:\\ProgramData\\Anaconda3\\lib\\site-packages\\statsmodels\\base\\model.py:547: HessianInversionWarning: Inverting hessian failed, no bse or cov_params available\n",
      "  warnings.warn('Inverting hessian failed, no bse or cov_params '\n"
     ]
    }
   ],
   "source": [
    "# Create the time series model using data before the input year\n",
    "model_before = sm.tsa.ARIMA(df_before['Indicator'], order=(1, 0, 0))\n",
    "model_before_fit = model_before.fit()"
   ]
  },
  {
   "cell_type": "code",
   "execution_count": 10,
   "metadata": {},
   "outputs": [],
   "source": [
    "# Create the time series model using the complete dataset\n",
    "model_complete = sm.tsa.ARIMA(df_complete['Indicator'], order=(1, 0, 0))\n",
    "model_complete_fit = model_complete.fit()"
   ]
  },
  {
   "cell_type": "code",
   "execution_count": 11,
   "metadata": {},
   "outputs": [],
   "source": [
    "next_five_before = model_before_fit.forecast(steps=5+(len(df_complete-df_before)))[0]\n",
    "next_five_complete = model_complete_fit.forecast(steps=5)[0]"
   ]
  },
  {
   "cell_type": "code",
   "execution_count": 12,
   "metadata": {},
   "outputs": [],
   "source": [
    "next_five_before = next_five_before[-5:]"
   ]
  },
  {
   "cell_type": "code",
   "execution_count": 13,
   "metadata": {},
   "outputs": [],
   "source": [
    "Year = []\n",
    "\n",
    "for i in range(1, 6):\n",
    "    Year.append(i + df_sorted['Year'].max())\n"
   ]
  },
  {
   "cell_type": "code",
   "execution_count": 14,
   "metadata": {},
   "outputs": [],
   "source": [
    "df_1 = pd.DataFrame()"
   ]
  },
  {
   "cell_type": "code",
   "execution_count": 15,
   "metadata": {},
   "outputs": [],
   "source": [
    "\n",
    "df_1['Year'] = Year\n",
    "df_1['next_five_before'] = next_five_before\n",
    "df_1['next_five_complete'] = next_five_complete\n"
   ]
  },
  {
   "cell_type": "code",
   "execution_count": 16,
   "metadata": {},
   "outputs": [
    {
     "data": {
      "text/html": [
       "<div>\n",
       "<style scoped>\n",
       "    .dataframe tbody tr th:only-of-type {\n",
       "        vertical-align: middle;\n",
       "    }\n",
       "\n",
       "    .dataframe tbody tr th {\n",
       "        vertical-align: top;\n",
       "    }\n",
       "\n",
       "    .dataframe thead th {\n",
       "        text-align: right;\n",
       "    }\n",
       "</style>\n",
       "<table border=\"1\" class=\"dataframe\">\n",
       "  <thead>\n",
       "    <tr style=\"text-align: right;\">\n",
       "      <th></th>\n",
       "      <th>Year</th>\n",
       "      <th>next_five_before</th>\n",
       "      <th>next_five_complete</th>\n",
       "    </tr>\n",
       "  </thead>\n",
       "  <tbody>\n",
       "    <tr>\n",
       "      <th>0</th>\n",
       "      <td>2021</td>\n",
       "      <td>52.15281</td>\n",
       "      <td>49.029422</td>\n",
       "    </tr>\n",
       "    <tr>\n",
       "      <th>1</th>\n",
       "      <td>2022</td>\n",
       "      <td>52.15281</td>\n",
       "      <td>49.047884</td>\n",
       "    </tr>\n",
       "    <tr>\n",
       "      <th>2</th>\n",
       "      <td>2023</td>\n",
       "      <td>52.15281</td>\n",
       "      <td>49.066235</td>\n",
       "    </tr>\n",
       "    <tr>\n",
       "      <th>3</th>\n",
       "      <td>2024</td>\n",
       "      <td>52.15281</td>\n",
       "      <td>49.084478</td>\n",
       "    </tr>\n",
       "    <tr>\n",
       "      <th>4</th>\n",
       "      <td>2025</td>\n",
       "      <td>52.15281</td>\n",
       "      <td>49.102613</td>\n",
       "    </tr>\n",
       "  </tbody>\n",
       "</table>\n",
       "</div>"
      ],
      "text/plain": [
       "   Year  next_five_before  next_five_complete\n",
       "0  2021          52.15281           49.029422\n",
       "1  2022          52.15281           49.047884\n",
       "2  2023          52.15281           49.066235\n",
       "3  2024          52.15281           49.084478\n",
       "4  2025          52.15281           49.102613"
      ]
     },
     "execution_count": 16,
     "metadata": {},
     "output_type": "execute_result"
    }
   ],
   "source": [
    "df_1"
   ]
  },
  {
   "cell_type": "code",
   "execution_count": 51,
   "metadata": {},
   "outputs": [
    {
     "data": {
      "image/png": "[encoded data removed]",
      "text/plain": [
       "<Figure size 432x288 with 1 Axes>"
      ]
     },
     "metadata": {
      "needs_background": "light"
     },
     "output_type": "display_data"
    }
   ],
   "source": [
    "import pandas as pd\n",
    "import matplotlib.pyplot as plt\n",
    "\n",
    "# Assuming 'df' is your DataFrame\n",
    "\n",
    "# Reset the index to use the default numeric index\n",
    "df_1.reset_index(drop=True, inplace=True)\n",
    "\n",
    "# Plot the 'next_five_before' column\n",
    "plt.plot(df_1['Year'], df_1['next_five_before'], label='Next Five Before')\n",
    "\n",
    "# Plot the 'next_five_complete' column\n",
    "plt.plot(df_1['Year'], df_1['next_five_complete'], label='Next Five Complete')\n",
    "\n",
    "# Set the title and labels for the plot\n",
    "plt.title('Line Plot')\n",
    "plt.xlabel('Index')\n",
    "plt.ylabel('Value')\n",
    "\n",
    "# Add a legend to differentiate the lines\n",
    "plt.legend()\n",
    "\n",
    "# Display the plot\n",
    "plt.show()\n"
   ]
  }
 ],
 "metadata": {
  "kernelspec": {
   "display_name": "base",
   "language": "python",
   "name": "python3"
  },
  "language_info": {
   "codemirror_mode": {
    "name": "ipython",
    "version": 3
   },
   "file_extension": ".py",
   "mimetype": "text/x-python",
   "name": "python",
   "nbconvert_exporter": "python",
   "pygments_lexer": "ipython3",
   "version": "3.8.8"
  },
  "orig_nbformat": 4
 },
 "nbformat": 4,
 "nbformat_minor": 2
}
